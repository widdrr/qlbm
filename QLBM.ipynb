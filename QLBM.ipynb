{
 "cells": [
  {
   "cell_type": "code",
   "execution_count": 1,
   "metadata": {},
   "outputs": [],
   "source": [
    "import numpy as np\n",
    "from qiskit.quantum_info import Statevector\n",
    "from qiskit import QuantumCircuit, AncillaRegister\n",
    "from qiskit.circuit import Gate\n",
    "from numpy.typing import NDArray\n",
    "import matplotlib.pyplot as plt\n",
    "import pandas as pd\n",
    "from matplotlib.animation import FuncAnimation\n",
    "from typing import Any\n",
    "import csv\n",
    "from datetime import datetime"
   ]
  },
  {
   "cell_type": "code",
   "execution_count": 3,
   "metadata": {},
   "outputs": [],
   "source": [
    "def encode(variable: NDArray[np.float64]) -> Statevector:\n",
    "    concatenated = np.concatenate((variable, variable, variable, np.zeros(len(variable))))\n",
    "    concatenated = concatenated / np.linalg.norm(concatenated)\n",
    "    \n",
    "    state = Statevector(concatenated)\n",
    "    ancilla = Statevector([1.0, 0.0])\n",
    "\n",
    "    return state.expand(ancilla)"
   ]
  },
  {
   "cell_type": "code",
   "execution_count": 4,
   "metadata": {},
   "outputs": [],
   "source": [
    "def c_gate(lambdas: NDArray[np.float64]) -> Gate:\n",
    "    qc = QuantumCircuit(3)\n",
    "    \n",
    "    qc.mcp(lambdas[0], [1,2], 0, ctrl_state='00')\n",
    "    qc.mcx([1,2], 0, ctrl_state='00')\n",
    "    qc.mcp(lambdas[0], [1,2], 0, ctrl_state='00')\n",
    "    qc.mcx([1,2], 0, ctrl_state='00')\n",
    "\n",
    "    qc.mcp(lambdas[1], [1,2], 0, ctrl_state='01')\n",
    "    qc.mcx([1,2], 0, ctrl_state='01')\n",
    "    qc.mcp(lambdas[1], [1,2], 0, ctrl_state='01')\n",
    "    qc.mcx([1,2], 0, ctrl_state='01')\n",
    "\n",
    "    qc.mcp(lambdas[2], [1,2], 0, ctrl_state='10')\n",
    "    qc.mcx([1,2], 0, ctrl_state='10')\n",
    "    qc.mcp(lambdas[2], [1,2], 0, ctrl_state='10')\n",
    "    qc.mcx([1,2], 0, ctrl_state='10')\n",
    "    \n",
    "    return qc.to_gate(label='C')"
   ]
  },
  {
   "cell_type": "code",
   "execution_count": 5,
   "metadata": {},
   "outputs": [],
   "source": [
    "def collision(num_qubits: int, lambdas: NDArray[np.float64]) -> QuantumCircuit:\n",
    "    qc = QuantumCircuit(num_qubits)\n",
    "    \n",
    "    ancilla = num_qubits - 1\n",
    "\n",
    "    qc.h(ancilla)\n",
    "    qc.append(c_gate(lambdas).control(1, ctrl_state='0'), [ancilla, 0, num_qubits - 3, num_qubits - 2])\n",
    "    qc.append(c_gate(-1 * lambdas).control(1, ctrl_state='1'), [ancilla, 0, num_qubits - 3, num_qubits - 2])\n",
    "    qc.h(ancilla)\n",
    "\n",
    "    return qc"
   ]
  },
  {
   "cell_type": "code",
   "execution_count": 6,
   "metadata": {},
   "outputs": [],
   "source": [
    "def r_gate(num_qubits: int) -> Gate:\n",
    "    qc = QuantumCircuit(num_qubits)\n",
    "    for i in range(num_qubits - 1, -1, -1):\n",
    "        if i == 0:\n",
    "            qc.x(i)\n",
    "        else:\n",
    "            controls = list(range(0, i))\n",
    "            qc.mcx(controls, i)\n",
    "    \n",
    "    return qc.to_gate(label='R')\n",
    "\n",
    "def l_gate(num_qubits: int) -> Gate:\n",
    "    qc = QuantumCircuit(num_qubits)\n",
    "    for i in range(num_qubits):\n",
    "        if i == 0:\n",
    "            qc.x(i)\n",
    "        else:\n",
    "            controls = list(range(0, i))\n",
    "            qc.mcx(controls, i)\n",
    "    \n",
    "    return qc.to_gate(label='L')\n"
   ]
  },
  {
   "cell_type": "code",
   "execution_count": 7,
   "metadata": {},
   "outputs": [],
   "source": [
    "def propagation(num_qubits: int) -> QuantumCircuit:\n",
    "    qc = QuantumCircuit(num_qubits)\n",
    "    \n",
    "    target_qubits = list(range(num_qubits - 2))\n",
    "    r_ctrl = r_gate(num_qubits - 2).control(2, ctrl_state='00')\n",
    "    qc.append(r_ctrl, [num_qubits - 2, num_qubits - 1] + target_qubits)\n",
    "    l_ctrl = l_gate(num_qubits - 2).control(2, ctrl_state='10')\n",
    "    qc.append(l_ctrl, [num_qubits - 2, num_qubits - 1] + target_qubits)\n",
    "    \n",
    "    return qc"
   ]
  },
  {
   "cell_type": "code",
   "execution_count": 8,
   "metadata": {},
   "outputs": [],
   "source": [
    "def macros() -> QuantumCircuit:\n",
    "    qc = QuantumCircuit(3)\n",
    "    \n",
    "    #qc.swap(0, 1)\n",
    "    qc.h(0)\n",
    "    qc.h(1)\n",
    "    \n",
    "    return qc"
   ]
  },
  {
   "cell_type": "code",
   "execution_count": 28,
   "metadata": {},
   "outputs": [],
   "source": [
    "def animate_density_evolution(filename: str, interval: int = 100, repeat: bool = False) -> FuncAnimation:\n",
    "    # Read the CSV file\n",
    "    df = pd.read_csv(filename)\n",
    "    \n",
    "    # Create the figure and axis\n",
    "    fig, ax = plt.subplots(figsize=(10, 6))\n",
    "    line, = ax.plot([], [], 'b-')\n",
    "    \n",
    "    # Set the plot limits and labels\n",
    "    ax.set_xlim(0, len(df.columns) - 1)\n",
    "    ax.set_ylim(0, np.max(df.values) * 1.1)  # Set y limit to max density value\n",
    "    ax.grid(True)\n",
    "    ax.set_xlabel('Site')\n",
    "    ax.set_ylabel('Density')\n",
    "    ax.set_title('Density Evolution Animation')\n",
    "    \n",
    "    def init():\n",
    "        line.set_data([], [])\n",
    "        return line,\n",
    "    \n",
    "    def update(frame):\n",
    "        line.set_data(range(len(df.columns)), df.iloc[frame])\n",
    "        return line,\n",
    "    \n",
    "    # Create animation\n",
    "    anim = FuncAnimation(fig, update, frames=len(df),\n",
    "                        init_func=init, blit=True,\n",
    "                        interval=interval, repeat=repeat)\n",
    "    \n",
    "    return anim"
   ]
  },
  {
   "cell_type": "code",
   "execution_count": null,
   "metadata": {},
   "outputs": [
    {
     "name": "stdout",
     "output_type": "stream",
     "text": [
      "Simulation complete. Results saved to experiments/density_evolution_20250419_145922.csv\n"
     ]
    }
   ],
   "source": [
    "num_sites = 128\n",
    "\n",
    "dimensions = 1\n",
    "velocities = [1, 0, -1]\n",
    "weights = np.array([1/6, 3/6, 2/6])\n",
    "speed_of_sound = 1/np.sqrt(3)\n",
    "advection = 0\n",
    "iterations = 50\n",
    "\n",
    "lambdas = np.array([np.arccos(w * (1 + (v * advection)/speed_of_sound**2)) for w, v in zip(weights, velocities)])\n",
    "\n",
    "density = np.full(num_sites, 0.1)\n",
    "density[12] = 0.2\n",
    "density[13] = 0.4\n",
    "density[14] = 0.2\n",
    "\n",
    "original_norm = np.linalg.norm(density)\n",
    "\n",
    "state = encode(density)\n",
    "\n",
    "if state.num_qubits is None:\n",
    "    raise ValueError(\"Statevector must have a number of qubits defined.\")\n",
    "\n",
    "qc = QuantumCircuit(state.num_qubits)\n",
    "qc.append(collision(state.num_qubits, lambdas), list(range(state.num_qubits)))\n",
    "qc.append(propagation(state.num_qubits - 1), list(range(0, state.num_qubits - 1)))\n",
    "qc.append(macros(), [state.num_qubits - 3, state.num_qubits - 2, state.num_qubits - 1])\n",
    "\n",
    "# Create unique filename with timestamp\n",
    "timestamp = datetime.now().strftime(\"%Y%m%d_%H%M%S\")\n",
    "filename = f\"experiments/density_evolution_{timestamp}.csv\"\n",
    "\n",
    "# Initialize CSV file with headers\n",
    "with open(filename, 'w', newline='') as file:\n",
    "    writer = csv.writer(file)\n",
    "    # Write headers: site_0, site_1, ..., site_63\n",
    "    writer.writerow([f'site_{i}' for i in range(num_sites)])\n",
    "    # Write initial state\n",
    "    writer.writerow(density)\n",
    "    \n",
    "    # Evolution loop\n",
    "    for i in range(iterations):\n",
    "        state = state.evolve(qc)\n",
    "        vals = np.array(state)[:num_sites]\n",
    "        density = np.real(original_norm * vals / np.linalg.norm(vals))\n",
    "        writer.writerow(density)\n",
    "        state = encode(vals)\n",
    "\n",
    "print(f\"Simulation complete. Results saved to {filename}\")"
   ]
  },
  {
   "cell_type": "code",
   "execution_count": 29,
   "metadata": {},
   "outputs": [
    {
     "data": {
      "application/vnd.jupyter.widget-view+json": {
       "model_id": "145c530308da4c5bba340debf2feb340",
       "version_major": 2,
       "version_minor": 0
      },
      "image/png": "[encoded data removed]",
      "text/html": [
       "\n",
       "            <div style=\"display: inline-block;\">\n",
       "                <div class=\"jupyter-widgets widget-label\" style=\"text-align: center;\">\n",
       "                    Figure\n",
       "                </div>\n",
       "                <img src='data:image/png;base64,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' width=1000.0/>\n",
       "            </div>\n",
       "        "
      ],
      "text/plain": [
       "Canvas(toolbar=Toolbar(toolitems=[('Home', 'Reset original view', 'home', 'home'), ('Back', 'Back to previous …"
      ]
     },
     "metadata": {},
     "output_type": "display_data"
    }
   ],
   "source": [
    "%matplotlib widget\n",
    "anim = animate_density_evolution(filename, interval=100)"
   ]
  }
 ],
 "metadata": {
  "kernelspec": {
   "display_name": ".venv",
   "language": "python",
   "name": "python3"
  },
  "language_info": {
   "codemirror_mode": {
    "name": "ipython",
    "version": 3
   },
   "file_extension": ".py",
   "mimetype": "text/x-python",
   "name": "python",
   "nbconvert_exporter": "python",
   "pygments_lexer": "ipython3",
   "version": "3.13.3"
  }
 },
 "nbformat": 4,
 "nbformat_minor": 2
}
