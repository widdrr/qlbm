{
 "cells": [
  {
   "cell_type": "code",
   "execution_count": 1,
   "metadata": {},
   "outputs": [],
   "source": [
    "import numpy as np\n",
    "from qiskit.quantum_info import Statevector\n",
    "from qiskit import QuantumCircuit, AncillaRegister\n",
    "from qiskit.circuit import Gate\n",
    "from numpy.typing import NDArray\n",
    "import matplotlib.pyplot as plt\n",
    "import pandas as pd\n",
    "from matplotlib.animation import FuncAnimation\n",
    "from typing import Any\n",
    "import csv\n",
    "from datetime import datetime"
   ]
  },
  {
   "cell_type": "code",
   "execution_count": 3,
   "metadata": {},
   "outputs": [],
   "source": [
    "def encode(variable: NDArray[np.float64]) -> Statevector:\n",
    "    concatenated = np.concatenate((variable, variable, variable, np.zeros(len(variable))))\n",
    "    concatenated = concatenated / np.linalg.norm(concatenated)\n",
    "    \n",
    "    state = Statevector(concatenated)\n",
    "    ancilla = Statevector([1.0, 0.0])\n",
    "\n",
    "    return state.expand(ancilla)"
   ]
  },
  {
   "cell_type": "code",
   "execution_count": 4,
   "metadata": {},
   "outputs": [],
   "source": [
    "def c_gate(lambdas: NDArray[np.float64]) -> Gate:\n",
    "    qc = QuantumCircuit(3)\n",
    "    \n",
    "    qc.mcp(lambdas[0], [1,2], 0, ctrl_state='00')\n",
    "    qc.mcx([1,2], 0, ctrl_state='00')\n",
    "    qc.mcp(lambdas[0], [1,2], 0, ctrl_state='00')\n",
    "    qc.mcx([1,2], 0, ctrl_state='00')\n",
    "\n",
    "    qc.mcp(lambdas[1], [1,2], 0, ctrl_state='01')\n",
    "    qc.mcx([1,2], 0, ctrl_state='01')\n",
    "    qc.mcp(lambdas[1], [1,2], 0, ctrl_state='01')\n",
    "    qc.mcx([1,2], 0, ctrl_state='01')\n",
    "\n",
    "    qc.mcp(lambdas[2], [1,2], 0, ctrl_state='10')\n",
    "    qc.mcx([1,2], 0, ctrl_state='10')\n",
    "    qc.mcp(lambdas[2], [1,2], 0, ctrl_state='10')\n",
    "    qc.mcx([1,2], 0, ctrl_state='10')\n",
    "    \n",
    "    return qc.to_gate(label='C')"
   ]
  },
  {
   "cell_type": "code",
   "execution_count": 5,
   "metadata": {},
   "outputs": [],
   "source": [
    "def collision(num_qubits: int, lambdas: NDArray[np.float64]) -> QuantumCircuit:\n",
    "    qc = QuantumCircuit(num_qubits)\n",
    "    \n",
    "    ancilla = num_qubits - 1\n",
    "\n",
    "    qc.h(ancilla)\n",
    "    qc.append(c_gate(lambdas).control(1, ctrl_state='0'), [ancilla, 0, num_qubits - 3, num_qubits - 2])\n",
    "    qc.append(c_gate(-1 * lambdas).control(1, ctrl_state='1'), [ancilla, 0, num_qubits - 3, num_qubits - 2])\n",
    "    qc.h(ancilla)\n",
    "\n",
    "    return qc"
   ]
  },
  {
   "cell_type": "code",
   "execution_count": 6,
   "metadata": {},
   "outputs": [],
   "source": [
    "def r_gate(num_qubits: int) -> Gate:\n",
    "    qc = QuantumCircuit(num_qubits)\n",
    "    for i in range(num_qubits - 1, -1, -1):\n",
    "        if i == 0:\n",
    "            qc.x(i)\n",
    "        else:\n",
    "            controls = list(range(0, i))\n",
    "            qc.mcx(controls, i)\n",
    "    \n",
    "    return qc.to_gate(label='R')\n",
    "\n",
    "def l_gate(num_qubits: int) -> Gate:\n",
    "    qc = QuantumCircuit(num_qubits)\n",
    "    for i in range(num_qubits):\n",
    "        if i == 0:\n",
    "            qc.x(i)\n",
    "        else:\n",
    "            controls = list(range(0, i))\n",
    "            qc.mcx(controls, i)\n",
    "    \n",
    "    return qc.to_gate(label='L')\n"
   ]
  },
  {
   "cell_type": "code",
   "execution_count": 7,
   "metadata": {},
   "outputs": [],
   "source": [
    "def propagation(num_qubits: int) -> QuantumCircuit:\n",
    "    qc = QuantumCircuit(num_qubits)\n",
    "    \n",
    "    target_qubits = list(range(num_qubits - 2))\n",
    "    r_ctrl = r_gate(num_qubits - 2).control(2, ctrl_state='00')\n",
    "    qc.append(r_ctrl, [num_qubits - 2, num_qubits - 1] + target_qubits)\n",
    "    l_ctrl = l_gate(num_qubits - 2).control(2, ctrl_state='10')\n",
    "    qc.append(l_ctrl, [num_qubits - 2, num_qubits - 1] + target_qubits)\n",
    "    \n",
    "    return qc"
   ]
  },
  {
   "cell_type": "code",
   "execution_count": 8,
   "metadata": {},
   "outputs": [],
   "source": [
    "def macros() -> QuantumCircuit:\n",
    "    qc = QuantumCircuit(3)\n",
    "    \n",
    "    #qc.swap(0, 1)\n",
    "    qc.h(0)\n",
    "    qc.h(1)\n",
    "    \n",
    "    return qc"
   ]
  },
  {
   "cell_type": "code",
   "execution_count": 28,
   "metadata": {},
   "outputs": [],
   "source": [
    "def animate_density_evolution(filename: str, interval: int = 100, repeat: bool = False) -> FuncAnimation:\n",
    "    # Read the CSV file\n",
    "    df = pd.read_csv(filename)\n",
    "    \n",
    "    # Create the figure and axis\n",
    "    fig, ax = plt.subplots(figsize=(10, 6))\n",
    "    line, = ax.plot([], [], 'b-')\n",
    "    \n",
    "    # Set the plot limits and labels\n",
    "    ax.set_xlim(0, len(df.columns) - 1)\n",
    "    ax.set_ylim(0, np.max(df.values) * 1.1)  # Set y limit to max density value\n",
    "    ax.grid(True)\n",
    "    ax.set_xlabel('Site')\n",
    "    ax.set_ylabel('Density')\n",
    "    ax.set_title('Density Evolution Animation')\n",
    "    \n",
    "    def init():\n",
    "        line.set_data([], [])\n",
    "        return line,\n",
    "    \n",
    "    def update(frame):\n",
    "        line.set_data(range(len(df.columns)), df.iloc[frame])\n",
    "        return line,\n",
    "    \n",
    "    # Create animation\n",
    "    anim = FuncAnimation(fig, update, frames=len(df),\n",
    "                        init_func=init, blit=True,\n",
    "                        interval=interval, repeat=repeat)\n",
    "    \n",
    "    return anim"
   ]
  },
  {
   "cell_type": "code",
   "execution_count": 30,
   "metadata": {},
   "outputs": [
    {
     "name": "stdout",
     "output_type": "stream",
     "text": [
      "Simulation complete. Results saved to experiments/density_evolution_20250419_150222.csv\n"
     ]
    }
   ],
   "source": [
    "num_sites = 64\n",
    "\n",
    "dimensions = 1\n",
    "velocities = [1, 0, -1]\n",
    "weights = np.array([1/6, 3/6, 2/6])\n",
    "speed_of_sound = 1/np.sqrt(3)\n",
    "advection = 0\n",
    "iterations = 50\n",
    "\n",
    "lambdas = np.array([np.arccos(w * (1 + (v * advection)/speed_of_sound**2)) for w, v in zip(weights, velocities)])\n",
    "\n",
    "density = np.full(num_sites, 0.1)\n",
    "density[12] = 0.2\n",
    "density[13] = 0.4\n",
    "density[14] = 0.2\n",
    "\n",
    "original_norm = np.linalg.norm(density)\n",
    "\n",
    "state = encode(density)\n",
    "\n",
    "if state.num_qubits is None:\n",
    "    raise ValueError(\"Statevector must have a number of qubits defined.\")\n",
    "\n",
    "qc = QuantumCircuit(state.num_qubits)\n",
    "qc.append(collision(state.num_qubits, lambdas), list(range(state.num_qubits)))\n",
    "qc.append(propagation(state.num_qubits - 1), list(range(0, state.num_qubits - 1)))\n",
    "qc.append(macros(), [state.num_qubits - 3, state.num_qubits - 2, state.num_qubits - 1])\n",
    "\n",
    "# Create unique filename with timestamp\n",
    "timestamp = datetime.now().strftime(\"%Y%m%d_%H%M%S\")\n",
    "filename = f\"experiments/density_evolution_{timestamp}.csv\"\n",
    "\n",
    "# Initialize CSV file with headers\n",
    "with open(filename, 'w', newline='') as file:\n",
    "    writer = csv.writer(file)\n",
    "    # Write headers: site_0, site_1, ..., site_63\n",
    "    writer.writerow([f'site_{i}' for i in range(num_sites)])\n",
    "    # Write initial state\n",
    "    writer.writerow(density)\n",
    "    \n",
    "    # Evolution loop\n",
    "    for i in range(iterations):\n",
    "        state = state.evolve(qc)\n",
    "        vals = np.array(state)[:num_sites]\n",
    "        density = np.real(original_norm * vals / np.linalg.norm(vals))\n",
    "        writer.writerow(density)\n",
    "        state = encode(vals)\n",
    "\n",
    "print(f\"Simulation complete. Results saved to {filename}\")"
   ]
  },
  {
   "cell_type": "code",
   "execution_count": 31,
   "metadata": {},
   "outputs": [
    {
     "data": {
      "application/vnd.jupyter.widget-view+json": {
       "model_id": "ea222029f1844c5da0080629e03f6927",
       "version_major": 2,
       "version_minor": 0
      },
      "image/png": "[encoded data removed]",
      "text/html": [
       "\n",
       "            <div style=\"display: inline-block;\">\n",
       "                <div class=\"jupyter-widgets widget-label\" style=\"text-align: center;\">\n",
       "                    Figure\n",
       "                </div>\n",
       "                <img src='data:image/png;base64,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' width=1000.0/>\n",
       "            </div>\n",
       "        "
      ],
      "text/plain": [
       "Canvas(toolbar=Toolbar(toolitems=[('Home', 'Reset original view', 'home', 'home'), ('Back', 'Back to previous …"
      ]
     },
     "metadata": {},
     "output_type": "display_data"
    }
   ],
   "source": [
    "%matplotlib widget\n",
    "anim = animate_density_evolution(filename, interval=100)"
   ]
  }
 ],
 "metadata": {
  "kernelspec": {
   "display_name": ".venv",
   "language": "python",
   "name": "python3"
  },
  "language_info": {
   "codemirror_mode": {
    "name": "ipython",
    "version": 3
   },
   "file_extension": ".py",
   "mimetype": "text/x-python",
   "name": "python",
   "nbconvert_exporter": "python",
   "pygments_lexer": "ipython3",
   "version": "3.13.3"
  }
 },
 "nbformat": 4,
 "nbformat_minor": 2
}
