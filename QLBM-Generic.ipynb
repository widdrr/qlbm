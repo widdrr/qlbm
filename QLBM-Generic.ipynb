{
 "cells": [
  {
   "cell_type": "code",
   "execution_count": 2,
   "metadata": {},
   "outputs": [],
   "source": [
    "import numpy as np\n",
    "from qiskit.quantum_info import Statevector\n",
    "from qiskit import QuantumCircuit, AncillaRegister\n",
    "from qiskit.circuit import Gate\n",
    "from numpy.typing import NDArray\n",
    "import matplotlib.pyplot as plt\n",
    "import pandas as pd\n",
    "from matplotlib.animation import FuncAnimation\n",
    "from typing import Any\n",
    "import csv\n",
    "from datetime import datetime"
   ]
  },
  {
   "cell_type": "code",
   "execution_count": 32,
   "metadata": {},
   "outputs": [],
   "source": [
    "def encode(variable: NDArray[np.float64], link_qubits: int, num_links: int) -> Statevector:\n",
    "\n",
    "    flatened = variable.flatten()\n",
    "    # Check if length is a power of 2\n",
    "    if not (len(flatened) & (len(flatened) - 1) == 0):\n",
    "        raise ValueError(\"Length of flattened array must be a power of 2\")\n",
    "    \n",
    "    #copy the distribution for each link\n",
    "    state = np.concatenate([flatened for _ in range(num_links)])\n",
    "\n",
    "    #complete state by adding empty link subspaces\n",
    "    max_links = 2**link_qubits\n",
    "    state = np.concatenate([state] + [np.zeros(len(flatened)) for _ in range(num_links, max_links)])\n",
    "\n",
    "    state = Statevector(state / np.linalg.norm(state))\n",
    "\n",
    "    ancilla = Statevector([1.0, 0.0])\n",
    "\n",
    "    return state.expand(ancilla)"
   ]
  },
  {
   "cell_type": "code",
   "execution_count": 31,
   "metadata": {},
   "outputs": [],
   "source": [
    "def recover_quantity_classical_macros(state: Statevector, site_dims: list[int], num_links: int, original_norm: np.float64) -> NDArray[np.float64]:\n",
    "    # Get the statevector as numpy array\n",
    "    state_array = np.array(state)\n",
    "    \n",
    "    # Calculate total number of sites\n",
    "    num_sites = np.prod(site_dims)\n",
    "    \n",
    "    # Initialize density array\n",
    "    density = np.zeros(site_dims, dtype=complex)\n",
    "    \n",
    "    # Sum up contributions from each link direction\n",
    "    for i in range(num_links):\n",
    "        # Extract values for this link direction\n",
    "        start_idx = i * num_sites\n",
    "        end_idx = (i + 1) * num_sites\n",
    "        link_vals = state_array[start_idx:end_idx]\n",
    "        \n",
    "        # Reshape and add to total density\n",
    "        density += link_vals.reshape(site_dims)\n",
    "    \n",
    "    density = np.real(density)\n",
    "    return original_norm * density / np.linalg.norm(density)"
   ]
  },
  {
   "cell_type": "code",
   "execution_count": 33,
   "metadata": {},
   "outputs": [],
   "source": [
    "def recover_quantity_quantum_macros(state: Statevector, site_dims: list[int], num_links: int, original_norm: np.float64) -> NDArray[np.float64]:\n",
    "    # Get the statevector as numpy array\n",
    "    state_array = np.array(state)\n",
    "    \n",
    "    # Calculate total number of sites\n",
    "    num_sites = np.prod(site_dims)\n",
    "    \n",
    "    # Initialize density array\n",
    "    density = state_array[:num_sites].reshape(site_dims)\n",
    "    \n",
    "    density = np.real(density)\n",
    "    return original_norm * density / np.linalg.norm(density)"
   ]
  },
  {
   "cell_type": "code",
   "execution_count": 18,
   "metadata": {},
   "outputs": [],
   "source": [
    "def lambda_gate(lambda_val: np.float64) -> Gate:\n",
    "    qc = QuantumCircuit(1, name='lambda')\n",
    "    qc.p(lambda_val, 0)\n",
    "    qc.x(0)\n",
    "    qc.p(lambda_val, 0)\n",
    "    qc.x(0)\n",
    "\n",
    "    return qc.to_gate(label=f'lambda{lambda_val:.2f}')"
   ]
  },
  {
   "cell_type": "code",
   "execution_count": 19,
   "metadata": {},
   "outputs": [],
   "source": [
    "def c_gate(lambdas: NDArray[np.float64], link_qubits: int) -> Gate:\n",
    "    qc = QuantumCircuit(link_qubits + 1)\n",
    "\n",
    "    controls = list(range(1, link_qubits + 1))\n",
    "    target = 0\n",
    "\n",
    "    for i in range(len(lambdas)):\n",
    "        control_state = np.binary_repr(i, link_qubits)\n",
    "        qc.append(lambda_gate(lambdas[i]).control(link_qubits, ctrl_state=control_state), controls + [target])\n",
    "    \n",
    "    return qc.to_gate(label='C')"
   ]
  },
  {
   "cell_type": "code",
   "execution_count": 20,
   "metadata": {},
   "outputs": [],
   "source": [
    "def collision(lambdas: NDArray[np.float64], site_qubits: int, link_qubits: int) -> QuantumCircuit:\n",
    "    num_qubits = site_qubits + link_qubits + 1\n",
    "    qc = QuantumCircuit(num_qubits)\n",
    "    \n",
    "    ancilla = num_qubits - 1\n",
    "    targets = [0] + list(range(site_qubits, num_qubits - 1))\n",
    "\n",
    "    qc.h(ancilla)\n",
    "    qc.append(c_gate(lambdas, link_qubits).control(1, ctrl_state='0'), [ancilla] + targets)\n",
    "    qc.append(c_gate(-1 * lambdas, link_qubits).control(1, ctrl_state='1'), [ancilla] + targets)\n",
    "    qc.h(ancilla)\n",
    "\n",
    "    return qc"
   ]
  },
  {
   "cell_type": "code",
   "execution_count": 21,
   "metadata": {},
   "outputs": [],
   "source": [
    "def r_gate(num_qubits: int) -> Gate:\n",
    "    qc = QuantumCircuit(num_qubits)\n",
    "    for i in range(num_qubits - 1, -1, -1):\n",
    "        if i == 0:\n",
    "            qc.x(i)\n",
    "        else:\n",
    "            controls = list(range(0, i))\n",
    "            qc.mcx(controls, i)\n",
    "    \n",
    "    return qc.to_gate(label='R')\n",
    "\n",
    "def l_gate(num_qubits: int) -> Gate:\n",
    "    qc = QuantumCircuit(num_qubits)\n",
    "    for i in range(num_qubits):\n",
    "        if i == 0:\n",
    "            qc.x(i)\n",
    "        else:\n",
    "            controls = list(range(0, i))\n",
    "            qc.mcx(controls, i)\n",
    "    \n",
    "    return qc.to_gate(label='L')\n"
   ]
  },
  {
   "cell_type": "code",
   "execution_count": 40,
   "metadata": {},
   "outputs": [],
   "source": [
    "def propagation(site_qubits: list[int], link_qubits: int, links: list[list[int]]) -> QuantumCircuit:\n",
    "    \n",
    "    tot_site_qubits = np.sum(site_qubits)\n",
    "    num_qubits = tot_site_qubits + link_qubits\n",
    "    qc = QuantumCircuit(num_qubits)\n",
    "    \n",
    "    targets = [list(range(sum(site_qubits[:i]), sum(site_qubits[:i+1]))) for i in range(len(site_qubits))]\n",
    "    \n",
    "    controls = list(range(tot_site_qubits, num_qubits))\n",
    "    for i, link, in enumerate(links):\n",
    "        control_state = np.binary_repr(i, link_qubits)\n",
    "        for j, dir in enumerate(link):\n",
    "            #perform left streaming 'dir' cells away\n",
    "            while dir < 0:\n",
    "                qc.append(l_gate(site_qubits[j]).control(link_qubits, ctrl_state=control_state), controls + targets[j])\n",
    "                dir += 1\n",
    "            #perform right streaming 'dir' cells away\n",
    "            while dir > 0:\n",
    "                qc.append(r_gate(site_qubits[j]).control(link_qubits, ctrl_state=control_state), controls + targets[j])\n",
    "                dir -= 1\n",
    "    return qc"
   ]
  },
  {
   "cell_type": "code",
   "execution_count": 23,
   "metadata": {},
   "outputs": [],
   "source": [
    "def macros(link_qubits: int) -> QuantumCircuit:\n",
    "    qc = QuantumCircuit(link_qubits + 1)\n",
    "\n",
    "    ancilla = link_qubits\n",
    "    \n",
    "    for i in range(link_qubits):\n",
    "        qc.swap(i,ancilla)\n",
    "        qc.h(ancilla)\n",
    "    \n",
    "    return qc"
   ]
  },
  {
   "cell_type": "code",
   "execution_count": 24,
   "metadata": {},
   "outputs": [],
   "source": [
    "def animate_density_evolution(filename: str, interval: int = 100, repeat: bool = False) -> FuncAnimation:\n",
    "    # Read the CSV file\n",
    "    df = pd.read_csv(filename, header=None)\n",
    "    \n",
    "    # Calculate grid dimensions from the data\n",
    "    grid_size = int(np.sqrt(len(df.columns)))\n",
    "    \n",
    "    # Create the figure and axis\n",
    "    fig, ax = plt.subplots(figsize=(8, 6))\n",
    "    img = ax.imshow(np.zeros((grid_size, grid_size)), cmap='viridis', animated=True)\n",
    "    plt.colorbar(img)\n",
    "    \n",
    "    ax.set_title('Density Evolution')\n",
    "    ax.set_xlabel('X')\n",
    "    ax.set_ylabel('Y')\n",
    "    \n",
    "    def init():\n",
    "        img.set_array(np.zeros((grid_size, grid_size)))\n",
    "        return [img]\n",
    "    \n",
    "    def update(frame):\n",
    "        # Reshape the flattened data back to 2D\n",
    "        current_density = df.iloc[frame].values.reshape(grid_size, grid_size)\n",
    "        img.set_array(current_density)\n",
    "        img.set_clim(vmin=df.values.min(), vmax=df.values.max())\n",
    "        return [img]\n",
    "    \n",
    "    # Create animation\n",
    "    anim = FuncAnimation(fig, update, frames=len(df),\n",
    "                        init_func=init, blit=True,\n",
    "                        interval=interval, repeat=repeat)\n",
    "    \n",
    "    return anim"
   ]
  },
  {
   "cell_type": "code",
   "execution_count": 25,
   "metadata": {},
   "outputs": [],
   "source": [
    "def display_density_heatmap(density: NDArray[np.float64], title: str = 'Density Distribution'):\n",
    "    plt.figure(figsize=(8, 6))\n",
    "    heatmap = plt.imshow(density, cmap='viridis')\n",
    "    plt.colorbar(heatmap, label='Density')\n",
    "    plt.title(title)\n",
    "    plt.xlabel('X')\n",
    "    plt.ylabel('Y')\n",
    "    plt.grid(True)\n",
    "    plt.show()"
   ]
  },
  {
   "cell_type": "code",
   "execution_count": 41,
   "metadata": {},
   "outputs": [],
   "source": [
    "def simulate_flow(initial_density: NDArray[np.float64], \n",
    "                 lambdas: NDArray[np.float64],\n",
    "                 links: list[list[int]],\n",
    "                 iterations: int,\n",
    "                 filename: str,\n",
    "                 enable_quantum_macros: bool) -> None:\n",
    "\n",
    "    # Get original norm for proper normalization\n",
    "    original_norm = np.float64(np.linalg.norm(initial_density))\n",
    "    # Convert numpy shape to list of integers\n",
    "    sites_per_dim = list(initial_density.shape)\n",
    "    site_qubits_per_dim = [int(np.ceil(np.log2(sites))) for sites in sites_per_dim]\n",
    "    site_qubits = np.sum(site_qubits_per_dim)\n",
    "\n",
    "    num_links = len(links)\n",
    "    link_qubits = int(np.ceil(np.log2(num_links)))\n",
    "    \n",
    "    with open(filename, 'w', newline='') as file:\n",
    "        writer = csv.writer(file)\n",
    "        # Write initial state as first row\n",
    "        writer.writerow(initial_density.flatten())\n",
    "        \n",
    "        # Initialize state\n",
    "        state = encode(initial_density, link_qubits, num_links)\n",
    "        if state.num_qubits is None:\n",
    "            raise ValueError(\"Failed to initialize quantum state\")\n",
    "        \n",
    "        # Create quantum circuit for one iteration\n",
    "        qc = QuantumCircuit(state.num_qubits)\n",
    "        qc.append(collision(lambdas, site_qubits, link_qubits), list(range(state.num_qubits)))\n",
    "        qc.append(propagation(site_qubits_per_dim, link_qubits, links), list(range(0, state.num_qubits - 1)))\n",
    "\n",
    "        recover_quantity = recover_quantity_classical_macros\n",
    "        if enable_quantum_macros:\n",
    "            qc.append(macros(link_qubits), list(range(site_qubits, state.num_qubits)))\n",
    "            recover_quantity = recover_quantity_quantum_macros\n",
    "        \n",
    "        # Evolution loop\n",
    "        for _ in range(iterations):\n",
    "            # Evolve state\n",
    "            state = state.evolve(qc)\n",
    "            \n",
    "            # Recover density and normalize\n",
    "            density = recover_quantity(state, sites_per_dim, num_links, original_norm)\n",
    "            \n",
    "            # Write current state to CSV\n",
    "            writer.writerow(density.flatten())\n",
    "            \n",
    "            # Re-encode for next iteration\n",
    "            state = encode(density, link_qubits, num_links)"
   ]
  },
  {
   "cell_type": "code",
   "execution_count": null,
   "metadata": {},
   "outputs": [
    {
     "name": "stdout",
     "output_type": "stream",
     "text": [
      "Simulation complete. Results saved to experiments/D2Q9/density_evolution_20250505_204637.csv\n"
     ]
    }
   ],
   "source": [
    "sites = (8, 8)\n",
    "velocities = [0, -1, 1, -1, 1, -1, 1, -1, 1]\n",
    "links = [[0,0], [-1, 0], [1,0], [0,-1], [0,1], [-1,-1], [-1,1], [1,-1], [1,1]]\n",
    "weights = np.array([2/10, 1/10, 1/10, 1/10, 1/10, 1/10, 1/10, 1/10, 1/10])\n",
    "speed_of_sound = 1/np.sqrt(3)\n",
    "advection = np.array([0, 0.2, 0.2, 0.15, 0.15, 0.1, 0.1, 0.2, 0.2])\n",
    "iterations = 10\n",
    "\n",
    "lambdas = np.array([np.arccos(w * (1 + (v * u)/speed_of_sound**2)) for w, v, u in zip(weights, velocities, advection)])\n",
    "\n",
    "density = np.full(sites, 0.1)\n",
    "density[4, 4] = 5.0\n",
    "\n",
    "# Create unique filename with timestamp\n",
    "timestamp = datetime.now().strftime(\"%Y%m%d_%H%M%S\")\n",
    "filename = f\"experiments/D2Q9/density_evolution_{timestamp}.csv\"\n",
    "\n",
    "# Run simulation\n",
    "simulate_flow(density, lambdas, links, iterations, filename, enable_quantum_macros=False)\n",
    "\n",
    "print(f\"Simulation complete. Results saved to {filename}\")"
   ]
  },
  {
   "cell_type": "code",
   "execution_count": 58,
   "metadata": {},
   "outputs": [
    {
     "data": {
      "application/vnd.jupyter.widget-view+json": {
       "model_id": "4a47c703c91c483da478d4eb14c3d048",
       "version_major": 2,
       "version_minor": 0
      },
      "image/png": "[encoded data removed]",
      "text/html": [
       "\n",
       "            <div style=\"display: inline-block;\">\n",
       "                <div class=\"jupyter-widgets widget-label\" style=\"text-align: center;\">\n",
       "                    Figure\n",
       "                </div>\n",
       "                <img src='data:image/png;base64,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' width=800.0/>\n",
       "            </div>\n",
       "        "
      ],
      "text/plain": [
       "Canvas(toolbar=Toolbar(toolitems=[('Home', 'Reset original view', 'home', 'home'), ('Back', 'Back to previous …"
      ]
     },
     "metadata": {},
     "output_type": "display_data"
    }
   ],
   "source": [
    "# Create animation\n",
    "%matplotlib widget\n",
    "anim = animate_density_evolution(filename, interval=100)\n",
    "plt.show()"
   ]
  }
 ],
 "metadata": {
  "kernelspec": {
   "display_name": ".venv",
   "language": "python",
   "name": "python3"
  },
  "language_info": {
   "codemirror_mode": {
    "name": "ipython",
    "version": 3
   },
   "file_extension": ".py",
   "mimetype": "text/x-python",
   "name": "python",
   "nbconvert_exporter": "python",
   "pygments_lexer": "ipython3",
   "version": "3.13.3"
  }
 },
 "nbformat": 4,
 "nbformat_minor": 2
}
