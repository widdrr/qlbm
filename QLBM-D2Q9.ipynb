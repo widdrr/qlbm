{
 "cells": [
  {
   "cell_type": "code",
   "execution_count": 1,
   "metadata": {},
   "outputs": [],
   "source": [
    "import numpy as np\n",
    "from qiskit.quantum_info import Statevector\n",
    "from qiskit import QuantumCircuit, AncillaRegister\n",
    "from qiskit.circuit import Gate\n",
    "from numpy.typing import NDArray\n",
    "import matplotlib.pyplot as plt\n",
    "import pandas as pd\n",
    "from matplotlib.animation import FuncAnimation\n",
    "from typing import Any\n",
    "import csv\n",
    "from datetime import datetime"
   ]
  },
  {
   "cell_type": "code",
   "execution_count": 3,
   "metadata": {},
   "outputs": [],
   "source": [
    "def encode(variable: NDArray[np.float64]) -> Statevector:\n",
    "    concatenated = np.concatenate((variable, variable, variable, np.zeros(len(variable))))\n",
    "    concatenated = concatenated / np.linalg.norm(concatenated)\n",
    "    \n",
    "    state = Statevector(concatenated)\n",
    "    ancilla = Statevector([1.0, 0.0])\n",
    "\n",
    "    return state.expand(ancilla)"
   ]
  },
  {
   "cell_type": "code",
   "execution_count": 4,
   "metadata": {},
   "outputs": [],
   "source": [
    "def c_gate(lambdas: NDArray[np.float64]) -> Gate:\n",
    "    qc = QuantumCircuit(3)\n",
    "    \n",
    "    qc.mcp(lambdas[0], [1,2], 0, ctrl_state='00')\n",
    "    qc.mcx([1,2], 0, ctrl_state='00')\n",
    "    qc.mcp(lambdas[0], [1,2], 0, ctrl_state='00')\n",
    "    qc.mcx([1,2], 0, ctrl_state='00')\n",
    "\n",
    "    qc.mcp(lambdas[1], [1,2], 0, ctrl_state='01')\n",
    "    qc.mcx([1,2], 0, ctrl_state='01')\n",
    "    qc.mcp(lambdas[1], [1,2], 0, ctrl_state='01')\n",
    "    qc.mcx([1,2], 0, ctrl_state='01')\n",
    "\n",
    "    qc.mcp(lambdas[2], [1,2], 0, ctrl_state='10')\n",
    "    qc.mcx([1,2], 0, ctrl_state='10')\n",
    "    qc.mcp(lambdas[2], [1,2], 0, ctrl_state='10')\n",
    "    qc.mcx([1,2], 0, ctrl_state='10')\n",
    "    \n",
    "    return qc.to_gate(label='C')"
   ]
  },
  {
   "cell_type": "code",
   "execution_count": 5,
   "metadata": {},
   "outputs": [],
   "source": [
    "def collision(num_qubits: int, lambdas: NDArray[np.float64]) -> QuantumCircuit:\n",
    "    qc = QuantumCircuit(num_qubits)\n",
    "    \n",
    "    ancilla = num_qubits - 1\n",
    "\n",
    "    qc.h(ancilla)\n",
    "    qc.append(c_gate(lambdas).control(1, ctrl_state='0'), [ancilla, 0, num_qubits - 3, num_qubits - 2])\n",
    "    qc.append(c_gate(-1 * lambdas).control(1, ctrl_state='1'), [ancilla, 0, num_qubits - 3, num_qubits - 2])\n",
    "    qc.h(ancilla)\n",
    "\n",
    "    return qc"
   ]
  },
  {
   "cell_type": "code",
   "execution_count": 6,
   "metadata": {},
   "outputs": [],
   "source": [
    "def r_gate(num_qubits: int) -> Gate:\n",
    "    qc = QuantumCircuit(num_qubits)\n",
    "    for i in range(num_qubits - 1, -1, -1):\n",
    "        if i == 0:\n",
    "            qc.x(i)\n",
    "        else:\n",
    "            controls = list(range(0, i))\n",
    "            qc.mcx(controls, i)\n",
    "    \n",
    "    return qc.to_gate(label='R')\n",
    "\n",
    "def l_gate(num_qubits: int) -> Gate:\n",
    "    qc = QuantumCircuit(num_qubits)\n",
    "    for i in range(num_qubits):\n",
    "        if i == 0:\n",
    "            qc.x(i)\n",
    "        else:\n",
    "            controls = list(range(0, i))\n",
    "            qc.mcx(controls, i)\n",
    "    \n",
    "    return qc.to_gate(label='L')\n"
   ]
  },
  {
   "cell_type": "code",
   "execution_count": 7,
   "metadata": {},
   "outputs": [],
   "source": [
    "def propagation(num_qubits: int) -> QuantumCircuit:\n",
    "    qc = QuantumCircuit(num_qubits)\n",
    "    \n",
    "    target_qubits = list(range(num_qubits - 2))\n",
    "    r_ctrl = r_gate(num_qubits - 2).control(2, ctrl_state='00')\n",
    "    qc.append(r_ctrl, [num_qubits - 2, num_qubits - 1] + target_qubits)\n",
    "    l_ctrl = l_gate(num_qubits - 2).control(2, ctrl_state='10')\n",
    "    qc.append(l_ctrl, [num_qubits - 2, num_qubits - 1] + target_qubits)\n",
    "    \n",
    "    return qc"
   ]
  },
  {
   "cell_type": "code",
   "execution_count": 8,
   "metadata": {},
   "outputs": [],
   "source": [
    "def macros() -> QuantumCircuit:\n",
    "    qc = QuantumCircuit(3)\n",
    "    \n",
    "    #qc.swap(0, 1)\n",
    "    qc.h(0)\n",
    "    qc.h(1)\n",
    "    \n",
    "    return qc"
   ]
  },
  {
   "cell_type": "code",
   "execution_count": 3,
   "metadata": {},
   "outputs": [],
   "source": [
    "def animate_density_evolution(filename: str, interval: int = 100, repeat: bool = False) -> FuncAnimation:\n",
    "    # Read the CSV file\n",
    "    df = pd.read_csv(filename)\n",
    "    \n",
    "    # Create the figure and axis\n",
    "    fig, ax = plt.subplots(figsize=(10, 6))\n",
    "    line, = ax.plot([], [], 'b-')\n",
    "    \n",
    "    # Set the plot limits and labels\n",
    "    ax.set_xlim(0, len(df.columns) - 1)\n",
    "    ax.set_ylim(0, np.max(df.values) * 1.1)  # Set y limit to max density value\n",
    "    ax.grid(True)\n",
    "    ax.set_xlabel('Site')\n",
    "    ax.set_ylabel('Density')\n",
    "    ax.set_title('Density Evolution Animation')\n",
    "    \n",
    "    def init():\n",
    "        line.set_data([], [])\n",
    "        return line,\n",
    "    \n",
    "    def update(frame):\n",
    "        line.set_data(range(len(df.columns)), df.iloc[frame])\n",
    "        return line,\n",
    "    \n",
    "    # Create animation\n",
    "    anim = FuncAnimation(fig, update, frames=len(df),\n",
    "                        init_func=init, blit=True,\n",
    "                        interval=interval, repeat=repeat)\n",
    "    \n",
    "    return anim"
   ]
  },
  {
   "cell_type": "code",
   "execution_count": 30,
   "metadata": {},
   "outputs": [
    {
     "name": "stdout",
     "output_type": "stream",
     "text": [
      "Simulation complete. Results saved to experiments/density_evolution_20250419_150222.csv\n"
     ]
    }
   ],
   "source": [
    "num_sites = 64\n",
    "\n",
    "dimensions = 1\n",
    "velocities = [1, 0, -1]\n",
    "weights = np.array([1/6, 3/6, 2/6])\n",
    "speed_of_sound = 1/np.sqrt(3)\n",
    "advection = 0\n",
    "iterations = 50\n",
    "\n",
    "lambdas = np.array([np.arccos(w * (1 + (v * advection)/speed_of_sound**2)) for w, v in zip(weights, velocities)])\n",
    "\n",
    "density = np.full(num_sites, 0.1)\n",
    "density[12] = 0.2\n",
    "density[13] = 0.4\n",
    "density[14] = 0.2\n",
    "\n",
    "original_norm = np.linalg.norm(density)\n",
    "\n",
    "state = encode(density)\n",
    "\n",
    "if state.num_qubits is None:\n",
    "    raise ValueError(\"Statevector must have a number of qubits defined.\")\n",
    "\n",
    "qc = QuantumCircuit(state.num_qubits)\n",
    "qc.append(collision(state.num_qubits, lambdas), list(range(state.num_qubits)))\n",
    "qc.append(propagation(state.num_qubits - 1), list(range(0, state.num_qubits - 1)))\n",
    "qc.append(macros(), [state.num_qubits - 3, state.num_qubits - 2, state.num_qubits - 1])\n",
    "\n",
    "# Create unique filename with timestamp\n",
    "timestamp = datetime.now().strftime(\"%Y%m%d_%H%M%S\")\n",
    "filename = f\"experiments/density_evolution_{timestamp}.csv\"\n",
    "\n",
    "# Initialize CSV file with headers\n",
    "with open(filename, 'w', newline='') as file:\n",
    "    writer = csv.writer(file)\n",
    "    # Write headers: site_0, site_1, ..., site_63\n",
    "    writer.writerow([f'site_{i}' for i in range(num_sites)])\n",
    "    # Write initial state\n",
    "    writer.writerow(density)\n",
    "    \n",
    "    # Evolution loop\n",
    "    for i in range(iterations):\n",
    "        state = state.evolve(qc)\n",
    "        vals = np.array(state)[:num_sites]\n",
    "        density = np.real(original_norm * vals / np.linalg.norm(vals))\n",
    "        writer.writerow(density)\n",
    "        state = encode(vals)\n",
    "\n",
    "print(f\"Simulation complete. Results saved to {filename}\")"
   ]
  },
  {
   "cell_type": "code",
   "execution_count": 4,
   "metadata": {},
   "outputs": [
    {
     "ename": "NameError",
     "evalue": "name 'filename' is not defined",
     "output_type": "error",
     "traceback": [
      "\u001b[31m---------------------------------------------------------------------------\u001b[39m",
      "\u001b[31mNameError\u001b[39m                                 Traceback (most recent call last)",
      "\u001b[36mCell\u001b[39m\u001b[36m \u001b[39m\u001b[32mIn[4]\u001b[39m\u001b[32m, line 2\u001b[39m\n\u001b[32m      1\u001b[39m get_ipython().run_line_magic(\u001b[33m'\u001b[39m\u001b[33mmatplotlib\u001b[39m\u001b[33m'\u001b[39m, \u001b[33m'\u001b[39m\u001b[33mwidget\u001b[39m\u001b[33m'\u001b[39m)\n\u001b[32m----> \u001b[39m\u001b[32m2\u001b[39m anim = animate_density_evolution(\u001b[43mfilename\u001b[49m, interval=\u001b[32m100\u001b[39m)\n",
      "\u001b[31mNameError\u001b[39m: name 'filename' is not defined"
     ]
    }
   ],
   "source": [
    "%matplotlib widget\n",
    "anim = animate_density_evolution(filename, interval=100)"
   ]
  }
 ],
 "metadata": {
  "kernelspec": {
   "display_name": ".venv",
   "language": "python",
   "name": "python3"
  },
  "language_info": {
   "codemirror_mode": {
    "name": "ipython",
    "version": 3
   },
   "file_extension": ".py",
   "mimetype": "text/x-python",
   "name": "python",
   "nbconvert_exporter": "python",
   "pygments_lexer": "ipython3",
   "version": "3.13.3"
  }
 },
 "nbformat": 4,
 "nbformat_minor": 2
}
