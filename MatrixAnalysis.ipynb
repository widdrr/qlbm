{
 "cells": [
  {
   "cell_type": "markdown",
   "id": "2b11747e",
   "metadata": {},
   "source": [
    "# Matrix Analysis for LBM Simulation\n",
    "\n",
    "This notebook loads and visualizes the matrices saved during the quantum LBM simulation:\n",
    "1. Collision matrix\n",
    "2. Diagonal matrices used in the quantum circuit\n",
    "\n",
    "First, let's import the required libraries."
   ]
  },
  {
   "cell_type": "code",
   "execution_count": 29,
   "id": "f4f7000d",
   "metadata": {},
   "outputs": [],
   "source": [
    "import numpy as np\n",
    "import matplotlib.pyplot as plt\n",
    "import os\n",
    "from matplotlib.colors import LogNorm\n",
    "import seaborn as sns\n",
    "\n",
    "# Set style for better visualization\n",
    "#plt.style.use('seaborn')\n",
    "sns.set_context(\"notebook\", font_scale=1.2)"
   ]
  },
  {
   "cell_type": "markdown",
   "id": "20aedf1c",
   "metadata": {},
   "source": [
    "## Load Matrices\n",
    "\n",
    "Let's load the matrices from the most recent simulation run."
   ]
  },
  {
   "cell_type": "code",
   "execution_count": 30,
   "id": "9bf95994",
   "metadata": {},
   "outputs": [
    {
     "name": "stdout",
     "output_type": "stream",
     "text": [
      "Loading matrices from: experiments\\2DQ9Cross_20250601_170424\\matrices\n",
      "Collision matrix shape: (256,)\n",
      "Diagonal matrix 1 shape: (256,)\n",
      "Diagonal matrix 2 shape: (256,)\n",
      "Their f shape: (144,)\n",
      "Their U_1 shape: (144,)\n",
      "Their U_2 shape: (144,)\n",
      "Total diagonal entries: (512,)\n"
     ]
    }
   ],
   "source": [
    "# Get the latest experiment directory\n",
    "exp_dir = \"experiments\"\n",
    "exp_folders = [f for f in os.listdir(exp_dir) if os.path.isdir(os.path.join(exp_dir, f)) and f.startswith(\"2DQ9Cross\")]\n",
    "latest_exp = max(exp_folders)\n",
    "matrices_dir = os.path.join(exp_dir, latest_exp, \"matrices\")\n",
    "\n",
    "# Load matrices\n",
    "collision_matrix = np.load(os.path.join(matrices_dir, \"collision_matrix.npy\"))\n",
    "diagonal_1 = np.load(os.path.join(matrices_dir, \"diagonal_matrix_1.npy\"))\n",
    "diagonal_2 = np.load(os.path.join(matrices_dir, \"diagonal_matrix_2.npy\"))\n",
    "\n",
    "collision_data = np.load(os.path.join(matrices_dir, \"D2Q9_collision_matrices.npy\"), allow_pickle=True).item()\n",
    "their_f = collision_data['f']\n",
    "their_U_1 = collision_data['U_1']\n",
    "their_U_2 = collision_data['U_2']\n",
    "\n",
    "total = diag_entries = np.array(collision_data['Collision_diagonal_entries'])\n",
    "\n",
    "print(f\"Loading matrices from: {matrices_dir}\")\n",
    "print(f\"Collision matrix shape: {collision_matrix.shape}\")\n",
    "print(f\"Diagonal matrix 1 shape: {diagonal_1.shape}\")\n",
    "print(f\"Diagonal matrix 2 shape: {diagonal_2.shape}\")\n",
    "\n",
    "print(f\"Their f shape: {their_f.shape}\")\n",
    "print(f\"Their U_1 shape: {their_U_1.shape}\")\n",
    "print(f\"Their U_2 shape: {their_U_2.shape}\")\n",
    "\n",
    "print(f\"Total diagonal entries: {total.shape}\")"
   ]
  },
  {
   "cell_type": "code",
   "execution_count": 34,
   "id": "15bb49a0",
   "metadata": {},
   "outputs": [
    {
     "name": "stdout",
     "output_type": "stream",
     "text": [
      "[0.44444444 0.44444444 0.44444444 0.44444444 0.44444444 0.44444444\n",
      " 0.44444444 0.44444444 0.44444444 0.44444444 0.44444444 0.44444444\n",
      " 0.44444444 0.44444444 0.44444444 0.44444444 0.06397068 0.05148266\n",
      " 0.04444448 0.05148266 0.08129688 0.06397069 0.04444451 0.06397069\n",
      " 0.11111111 0.11111111 0.11111111 0.11111111 0.14092534 0.15825153\n",
      " 0.17777771 0.15825153 0.15825155 0.17073956 0.17777774 0.17073956\n",
      " 0.14092534 0.15825153 0.17777771 0.15825153 0.11111111 0.11111111\n",
      " 0.11111111 0.11111111 0.08129688 0.06397069 0.04444451 0.06397069\n",
      " 0.15825155 0.14092534 0.11111111 0.08129688 0.17073956 0.15825153\n",
      " 0.11111111 0.06397069 0.17777774 0.17777771 0.11111111 0.04444451\n",
      " 0.17073956 0.15825153 0.11111111 0.06397069 0.06397068 0.08129688\n",
      " 0.11111111 0.14092534 0.05148266 0.06397069 0.11111111 0.15825153\n",
      " 0.04444448 0.04444451 0.11111111 0.17777771 0.05148266 0.06397069\n",
      " 0.11111111 0.15825153 0.00420756 0.00541711 0.01111112 0.02032422\n",
      " 0.00541711 0.00420757 0.01111113 0.02777778 0.01111112 0.01111113\n",
      " 0.02777778 0.04444443 0.02032422 0.02777778 0.04444443 0.05134799\n",
      " 0.02777778 0.03523133 0.04444444 0.05013845 0.02032422 0.02777778\n",
      " 0.04444443 0.05134799 0.01111112 0.01111113 0.02777778 0.04444443\n",
      " 0.00541711 0.00420757 0.01111113 0.02777778 0.051348   0.05013845\n",
      " 0.04444444 0.03523133 0.05013845 0.05134799 0.04444443 0.02777778\n",
      " 0.04444444 0.04444443 0.02777778 0.01111113 0.03523133 0.02777778\n",
      " 0.01111113 0.00420757 0.02777778 0.02032422 0.01111112 0.00541711\n",
      " 0.03523133 0.02777778 0.01111113 0.00420757 0.04444444 0.04444443\n",
      " 0.02777778 0.01111113 0.05013845 0.05134799 0.04444443 0.02777778]\n"
     ]
    }
   ],
   "source": [
    "print(collision_matrix[:144])\n"
   ]
  },
  {
   "cell_type": "code",
   "execution_count": 35,
   "id": "2d16a84e",
   "metadata": {},
   "outputs": [
    {
     "name": "stdout",
     "output_type": "stream",
     "text": [
      "[0.88888889 0.88888889 0.88888889 0.88888889 0.88888889 0.88888889\n",
      " 0.88888889 0.88888889 0.88888889 0.88888889 0.88888889 0.88888889\n",
      " 0.88888889 0.88888889 0.88888889 0.88888889 0.44760297 0.48292441\n",
      " 0.50283139 0.48292441 0.39859705 0.44760292 0.5028313  0.44760292\n",
      " 0.31426968 0.31426968 0.31426968 0.31426968 0.22994231 0.18093644\n",
      " 0.12570806 0.18093644 0.18093639 0.22994231 0.31426968 0.39859705\n",
      " 0.14561495 0.18093644 0.31426968 0.44760292 0.12570797 0.12570806\n",
      " 0.31426968 0.5028313  0.14561495 0.18093644 0.31426968 0.44760292\n",
      " 0.18093639 0.14561495 0.12570797 0.14561495 0.22994231 0.18093644\n",
      " 0.12570806 0.18093644 0.31426968 0.31426968 0.31426968 0.31426968\n",
      " 0.39859705 0.44760292 0.5028313  0.44760292 0.63300619 0.56370135\n",
      " 0.44444444 0.32518754 0.68295826 0.63300612 0.44444444 0.25588277\n",
      " 0.71111098 0.71111084 0.44444444 0.17777804 0.68295826 0.63300612\n",
      " 0.44444444 0.25588277 0.11111111 0.14092534 0.17777774 0.20055379\n",
      " 0.08129688 0.11111111 0.17777771 0.20539195 0.04444448 0.04444451\n",
      " 0.11111111 0.17777771 0.02166843 0.01683027 0.04444451 0.11111111\n",
      " 0.01683024 0.02166843 0.04444448 0.08129688 0.02166843 0.01683027\n",
      " 0.04444451 0.11111111 0.04444448 0.04444451 0.11111111 0.17777771\n",
      " 0.08129688 0.11111111 0.17777771 0.20539195 0.11111111 0.08129688\n",
      " 0.04444448 0.02166843 0.14092534 0.11111111 0.04444451 0.01683027\n",
      " 0.17777774 0.17777771 0.11111111 0.04444451 0.20055379 0.20539195\n",
      " 0.17777771 0.11111111 0.14523406 0.14181295 0.12570785 0.09964926\n",
      " 0.14181295 0.14523404 0.12570783 0.07856742 0.12570785 0.12570783\n",
      " 0.07856742 0.03142702 0.09964926 0.07856742 0.03142702 0.0119008 ]\n"
     ]
    }
   ],
   "source": [
    "print(their_f)"
   ]
  },
  {
   "cell_type": "code",
   "execution_count": 36,
   "id": "2d515785",
   "metadata": {},
   "outputs": [
    {
     "name": "stdout",
     "output_type": "stream",
     "text": [
      "[ 2.          2.          2.          2.          2.          2.\n",
      "  2.          2.          2.          2.          2.          2.\n",
      "  2.          2.          2.          2.          6.99700233  9.38033172\n",
      " 11.31369789  9.38033172  4.90298058  6.99699977 11.31368729  6.99699977\n",
      "  2.82842712  2.82842712  2.82842712  2.82842712  1.63166055  1.14334719\n",
      "  0.70710811  1.14334719  1.14334677  1.34674301  1.76776728  2.33453242\n",
      "  1.03327727  1.14334719  1.76776762  2.82842712  1.1313717   1.13137255\n",
      "  2.82842712  4.5254817   1.7911504   2.82842712  7.07105721  6.99699977\n",
      "  1.14334677  1.03327727  1.1313717   1.7911504   1.34674301  1.14334719\n",
      "  1.13137255  2.82842712  1.76776728  1.76776762  2.82842712  7.07105721\n",
      "  2.33453242  2.82842712  4.5254817   6.99699977  9.89525559  6.93386163\n",
      "  4.          2.30751648 13.26579234  9.89525197  4.          1.6169371\n",
      " 15.999985   15.99997     4.          1.00000187 13.26579234  9.89525197\n",
      "  4.          1.6169371  26.40749252 26.01486576 15.999985    9.86772326\n",
      " 15.00743288 26.40744022 15.99997     7.39411015  4.          4.\n",
      "  4.          4.          1.06613837  0.60588985  1.00000187  2.16388445\n",
      "  0.60588865  0.61503296  1.00000094  1.62144798  1.06613837  0.60588985\n",
      "  1.00000187  2.16388445  4.          4.          4.          4.\n",
      " 15.00743288 26.40744022 15.99997     7.39411015  2.1638841   1.62144798\n",
      "  1.00000094  0.61503296  2.81072399  2.16388445  1.00000187  0.60588985\n",
      "  4.          4.          4.          4.          5.69248352  7.39411015\n",
      " 15.99997    26.40744022  5.22842628  6.97753403 11.31369789 18.39528799\n",
      "  4.0251937   5.22842543 11.31368729 18.67288005  2.82842712  2.82842712\n",
      "  2.82842712  2.82842712  1.987482    1.53009737  0.70710811  0.42842882]\n"
     ]
    }
   ],
   "source": [
    "print(their_f / collision_matrix[:144])"
   ]
  },
  {
   "cell_type": "code",
   "execution_count": 37,
   "id": "98d36819",
   "metadata": {},
   "outputs": [
    {
     "name": "stdout",
     "output_type": "stream",
     "text": [
      "[2, np.float64(2.8284271247461903), np.float64(2.8284271247461903), np.float64(2.8284271247461903), 4, 4, 4, 4, np.float64(2.8284271247461903)]\n"
     ]
    }
   ],
   "source": [
    "renorm_const = [2, 2 * np.sqrt(2), 2 * np.sqrt(2), 2 * np.sqrt(2), 4, 4, 4, 4, 2 * np.sqrt(2)]\n",
    "print(renorm_const)"
   ]
  }
 ],
 "metadata": {
  "kernelspec": {
   "display_name": ".venv",
   "language": "python",
   "name": "python3"
  },
  "language_info": {
   "codemirror_mode": {
    "name": "ipython",
    "version": 3
   },
   "file_extension": ".py",
   "mimetype": "text/x-python",
   "name": "python",
   "nbconvert_exporter": "python",
   "pygments_lexer": "ipython3",
   "version": "3.13.3"
  }
 },
 "nbformat": 4,
 "nbformat_minor": 5
}
