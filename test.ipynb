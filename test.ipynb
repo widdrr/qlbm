{
 "cells": [
  {
   "cell_type": "code",
   "execution_count": null,
   "id": "bd1c8c3c",
   "metadata": {},
   "outputs": [],
   "source": [
    "from qiskit import QuantumCircuit, transpile\n",
    "from qiskit.circuit.library import HGate\n",
    "from qiskit.circuit.library.generalized_gates import MCMTGate, DiagonalGate\n",
    "from qiskit_aer import StatevectorSimulator\n",
    "import numpy as np"
   ]
  },
  {
   "cell_type": "code",
   "execution_count": 51,
   "id": "2d5dfb8a",
   "metadata": {},
   "outputs": [],
   "source": [
    "def get_ctrl_qubits(binary_str):\n",
    "    length = len(binary_str)\n",
    "    for i, bit in enumerate(binary_str):\n",
    "        if i == length - 1:\n",
    "            raise ValueError(\"Invalid binary representation\")\n",
    "        if bit == '1':\n",
    "            return (list(range(length - i - 1)), length - i - 1, binary_str[i+1:])\n",
    "    raise ValueError(\"Invalid binary representation\")"
   ]
  },
  {
   "cell_type": "code",
   "execution_count": 101,
   "id": "1fdfbcf4",
   "metadata": {},
   "outputs": [],
   "source": [
    "def get_renorm_coeff(num_velocities):\n",
    "    num_qubits = int(np.ceil(np.log2(num_velocities)))\n",
    "    floor_qubits = int(np.floor(np.log2(num_velocities)))\n",
    "    full_velocities = 2**floor_qubits\n",
    "\n",
    "    coeffs = [np.sqrt(2)**floor_qubits for _ in range(num_velocities)]\n",
    "    for i in range(num_velocities - full_velocities):\n",
    "        coeffs[i] *= np.sqrt(2)\n",
    "        coeffs[-i - 1] *= np.sqrt(2)\n",
    "\n",
    "    return coeffs"
   ]
  },
  {
   "cell_type": "code",
   "execution_count": 151,
   "id": "812aff16",
   "metadata": {},
   "outputs": [],
   "source": [
    "def test_gate(value):\n",
    "    qc = QuantumCircuit(1)\n",
    "    qc.p(value, 0)\n",
    "    qc.x(0)\n",
    "    qc.p(value, 0)\n",
    "    qc.x(0)\n",
    "\n",
    "    return qc.to_gate()\n"
   ]
  },
  {
   "cell_type": "code",
   "execution_count": null,
   "id": "bddfbdba",
   "metadata": {},
   "outputs": [
    {
     "data": {
      "text/latex": [
       "$$\\frac{1}{2} |00\\rangle+\\frac{1}{2} |01\\rangle+\\frac{1}{2} |10\\rangle+\\frac{1}{2} |11\\rangle$$"
      ],
      "text/plain": [
       "<IPython.core.display.Latex object>"
      ]
     },
     "execution_count": 152,
     "metadata": {},
     "output_type": "execute_result"
    }
   ],
   "source": [
    "num_velocities = 4\n",
    "num_qubits = int(np.ceil(np.log2(num_velocities)))\n",
    "floor_qubits = int(np.floor(np.log2(num_velocities)))\n",
    "full_velocities = 2**floor_qubits\n",
    "\n",
    "qc = QuantumCircuit(num_qubits + 1)\n",
    "ancilla = num_qubits\n",
    "\n",
    "for i in range(floor_qubits):\n",
    "  qc.h(i)\n",
    "\n",
    "for i in range(full_velocities, num_velocities):\n",
    "   bin_repr = np.binary_repr(i, num_qubits)\n",
    "   (ctrl_qubits, target_qubit, state) = get_ctrl_qubits(bin_repr)\n",
    "   qc.append(HGate().control(num_ctrl_qubits=len(state), ctrl_state=state), ctrl_qubits + [target_qubit])\n",
    "\n",
    "# Import and set up simulator\n",
    "simulator = StatevectorSimulator()\n",
    "\n",
    "qc = transpile(qc, simulator)\n",
    "\n",
    "job = simulator.run(qc)\n",
    "result = job.result()\n",
    "statevector = result.get_statevector()\n",
    "statevector.draw('latex')"
   ]
  },
  {
   "cell_type": "code",
   "execution_count": 148,
   "id": "d31d874d",
   "metadata": {},
   "outputs": [
    {
     "data": {
      "text/latex": [
       "$$\\frac{\\sqrt{2}}{2} |000\\rangle+\\frac{\\sqrt{2}}{2} |001\\rangle$$"
      ],
      "text/plain": [
       "<IPython.core.display.Latex object>"
      ]
     },
     "execution_count": 148,
     "metadata": {},
     "output_type": "execute_result"
    }
   ],
   "source": [
    "\n",
    "qc = QuantumCircuit(3)\n",
    "\n",
    "qc.h(0)\n",
    "\n",
    "qc.h(1)\n",
    "qc.append(test_gate(0.7).control(ctrl_state='0'), [1,0])\n",
    "qc.append(test_gate(-0.7).control(ctrl_state='0'), [1,0])\n",
    "qc.h(1)\n",
    "# Import and set up simulator\n",
    "simulator = StatevectorSimulator()\n",
    "\n",
    "qc = transpile(qc, simulator)\n",
    "\n",
    "job = simulator.run(qc)\n",
    "result = job.result()\n",
    "statevector = result.get_statevector()\n",
    "statevector.draw('latex')"
   ]
  }
 ],
 "metadata": {
  "kernelspec": {
   "display_name": ".venv",
   "language": "python",
   "name": "python3"
  },
  "language_info": {
   "codemirror_mode": {
    "name": "ipython",
    "version": 3
   },
   "file_extension": ".py",
   "mimetype": "text/x-python",
   "name": "python",
   "nbconvert_exporter": "python",
   "pygments_lexer": "ipython3",
   "version": "3.13.3"
  }
 },
 "nbformat": 4,
 "nbformat_minor": 5
}
